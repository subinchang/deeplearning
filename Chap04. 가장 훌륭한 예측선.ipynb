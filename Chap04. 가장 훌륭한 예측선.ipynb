{
 "cells": [
  {
   "cell_type": "code",
   "execution_count": 3,
   "id": "1a079f07",
   "metadata": {},
   "outputs": [],
   "source": [
    "import numpy as np\n",
    "import pandas as pd\n",
    "import matplotlib.pyplot as plt\n",
    "\n",
    "import tensorflow as tf\n",
    "from tensorflow import keras\n",
    "\n",
    "from tensorflow.keras.models import Sequential\n",
    "from tensorflow.keras.layers import Dense"
   ]
  },
  {
   "cell_type": "code",
   "execution_count": 4,
   "id": "1efb1f82",
   "metadata": {},
   "outputs": [
    {
     "data": {
      "image/png": "[encoded data removed]",
      "text/plain": [
       "<Figure size 432x288 with 1 Axes>"
      ]
     },
     "metadata": {
      "needs_background": "light"
     },
     "output_type": "display_data"
    }
   ],
   "source": [
    "X = [2, 4, 6, 8]\n",
    "Y = [81, 93, 91, 97]\n",
    "\n",
    "plt.scatter(X, Y)\n",
    "plt.grid()\n",
    "plt.show()"
   ]
  },
  {
   "cell_type": "code",
   "execution_count": null,
   "id": "7e72079a",
   "metadata": {},
   "outputs": [],
   "source": [
    "'''\n",
    "문제] 공부한 시간 X와 성적 Y를 이용하여 최소제곱법을 적용한 후 a, b 값을 구하고\n",
    "        그 결과를 출력하는 코드를 다음 두 가지 방법으로 작성하세요.\n",
    "        \n",
    "        1) numpy를 사용하지 않고 파이썬 코드만을 이용하여 연산을 수행합니다.\n",
    "        2) numpy를 최대한 활용하여 효율적인 연산을 수행합니다.\n",
    "'''"
   ]
  },
  {
   "cell_type": "code",
   "execution_count": 13,
   "id": "b0bd587f",
   "metadata": {},
   "outputs": [
    {
     "name": "stdout",
     "output_type": "stream",
     "text": [
      "mx: 5.0 my: 90.5\n",
      "divisor: 20.0 diviend: 46.0\n",
      "a: 2.3\n",
      "b: 79.0\n"
     ]
    }
   ],
   "source": [
    "# 방법 1) python only\n",
    "\n",
    "X = [2, 4, 6, 8]\n",
    "Y = [81, 93, 91, 97]\n",
    "\n",
    "mx = sum(X) / len(X)\n",
    "my = sum(Y) / len(Y)\n",
    "\n",
    "print('mx:', mx, 'my:', my)\n",
    "divisor = sum([(i - mx) ** 2 for i in X])\n",
    "dividend = sum([(x - mx)*(y - my) for x, y in zip(X, Y)])\n",
    "print('divisor:', divisor, 'diviend:', dividend)\n",
    "\n",
    "a = dividend / divisor\n",
    "print('a:', a)\n",
    "\n",
    "b = my - (mx * a)\n",
    "print('b:', b)"
   ]
  },
  {
   "cell_type": "code",
   "execution_count": 22,
   "id": "22f02082",
   "metadata": {},
   "outputs": [
    {
     "name": "stdout",
     "output_type": "stream",
     "text": [
      "a: 2.3 , b: 79.0\n"
     ]
    }
   ],
   "source": [
    "# 방법 2) numpy\n",
    "\n",
    "X = np.array([2, 4, 6, 8])\n",
    "Y = np.array([81, 93, 91, 97])\n",
    "\n",
    "a = ((X - X.mean()) * (Y - Y.mean())).sum() / ((X - X.mean()) ** 2).sum()\n",
    "b = Y.mean() - (X.mean() * a)\n",
    "print('a:', a, ', b:', b)"
   ]
  },
  {
   "cell_type": "code",
   "execution_count": null,
   "id": "afa0ce90",
   "metadata": {},
   "outputs": [],
   "source": [
    "'''\n",
    "문제2] 실제 값과 예측 값의 산점도 그래프와 예측선을 그리는 코드를 작성하세요.\n",
    "'''"
   ]
  },
  {
   "cell_type": "code",
   "execution_count": 28,
   "id": "41ceb7ee",
   "metadata": {
    "collapsed": true
   },
   "outputs": [
    {
     "data": {
      "image/png": "[encoded data removed]",
      "text/plain": [
       "<Figure size 432x288 with 1 Axes>"
      ]
     },
     "metadata": {
      "needs_background": "light"
     },
     "output_type": "display_data"
    }
   ],
   "source": [
    "X = np.array([2, 4, 6, 8])\n",
    "Y = np.array([81, 93, 91, 97])\n",
    "Y_pred = a * X + b\n",
    "\n",
    "plt.scatter(X, Y)\n",
    "plt.scatter(X, Y_pred)\n",
    "plt.plot(X, Y_pred)\n",
    "plt.grid()\n",
    "\n",
    "plt.show()"
   ]
  },
  {
   "cell_type": "code",
   "execution_count": 36,
   "id": "1577e487",
   "metadata": {},
   "outputs": [
    {
     "name": "stdout",
     "output_type": "stream",
     "text": [
      "Y_pred: [ 82  88  94 100]\n"
     ]
    }
   ],
   "source": [
    "X = np.array([2, 4, 6, 8])\n",
    "Y = np.array([81, 93, 91, 97])\n",
    "\n",
    "a = 3\n",
    "b = 76\n",
    "Y_pred = a * X + b\n",
    "print('Y_pred:', Y_pred)"
   ]
  },
  {
   "cell_type": "code",
   "execution_count": 37,
   "id": "9e0fa047",
   "metadata": {},
   "outputs": [
    {
     "data": {
      "image/png": "[encoded data removed]",
      "text/plain": [
       "<Figure size 432x288 with 1 Axes>"
      ]
     },
     "metadata": {
      "needs_background": "light"
     },
     "output_type": "display_data"
    }
   ],
   "source": [
    "plt.scatter(X, Y)\n",
    "plt.scatter(X, Y_pred)\n",
    "plt.plot(X, Y_pred)\n",
    "plt.grid()\n",
    "\n",
    "plt.show()"
   ]
  },
  {
   "cell_type": "code",
   "execution_count": null,
   "id": "97e6cfa6",
   "metadata": {},
   "outputs": [],
   "source": [
    "'''\n",
    "문제3] 다음 값들을 이용하여 MSE 값을 구하고 출력하는 코드를 작성하세요.\n",
    "\n",
    "X = np.array([2, 4, 6, 8])\n",
    "Y = np.array([81, 93, 91, 97])\n",
    "\n",
    "a = 3\n",
    "b = 76\n",
    "'''"
   ]
  },
  {
   "cell_type": "code",
   "execution_count": 40,
   "id": "6b036c23",
   "metadata": {},
   "outputs": [
    {
     "name": "stdout",
     "output_type": "stream",
     "text": [
      "MSE: 11.0\n"
     ]
    }
   ],
   "source": [
    "X = np.array([2, 4, 6, 8])\n",
    "Y = np.array([81, 93, 91, 97])\n",
    "\n",
    "a = 3\n",
    "b = 76\n",
    "Y_pred = a * X + b\n",
    "\n",
    "MSE = ((Y - Y_pred) ** 2).mean()\n",
    "print('MSE:', MSE)"
   ]
  },
  {
   "cell_type": "code",
   "execution_count": null,
   "id": "76401e9c",
   "metadata": {},
   "outputs": [],
   "source": []
  }
 ],
 "metadata": {
  "kernelspec": {
   "display_name": "Python 3 (ipykernel)",
   "language": "python",
   "name": "python3"
  },
  "language_info": {
   "codemirror_mode": {
    "name": "ipython",
    "version": 3
   },
   "file_extension": ".py",
   "mimetype": "text/x-python",
   "name": "python",
   "nbconvert_exporter": "python",
   "pygments_lexer": "ipython3",
   "version": "3.9.12"
  }
 },
 "nbformat": 4,
 "nbformat_minor": 5
}
