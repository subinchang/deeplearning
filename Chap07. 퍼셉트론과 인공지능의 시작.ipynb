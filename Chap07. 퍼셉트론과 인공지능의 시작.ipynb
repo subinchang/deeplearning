{
 "cells": [
  {
   "cell_type": "code",
   "execution_count": 2,
   "id": "a135823f",
   "metadata": {},
   "outputs": [],
   "source": [
    "import numpy as np"
   ]
  },
  {
   "cell_type": "code",
   "execution_count": null,
   "id": "433d52d0",
   "metadata": {},
   "outputs": [],
   "source": [
    "'''\n",
    "    ### 단순 퍼셉트론을 이용한 AND Gate 구현 - Step1 ###\n",
    "    ==> 편향(bias)을 적용하지 않는 구현\n",
    "    \n",
    "    X1  X2  AND\n",
    "    === === ===\n",
    "     0   0   0\n",
    "     0   1   0\n",
    "     1   0   0\n",
    "     1   1   1\n",
    "         \n",
    "    w1 * x1 + w2 * x2 > theta\n",
    "    =========================\n",
    "    위 계산식의 결과가 참이면 1을, 거짓이면 0을 반환하는 경우, AND 연산의 결과와 동일한 결과를 나타내는\n",
    "    w1, w2, theta를 찾는 문제\n",
    "    \n",
    "    w1 * 0 + w2 * 0 > theta    ==> F\n",
    "    w1 * 0 + w2 * 1 > theta    ==> F\n",
    "    w1 * 1 + w2 * 0 > theta    ==> F\n",
    "    w1 * 1 + w2 * 1 > theta    ==> T\n",
    "    \n",
    "    위 결과를 만족하는 w1, w2, theta는 무엇인가요?\n",
    "        ==> w1: 0.5, w2: 0.5, theta: 0.7\n",
    "        \n",
    "    0 > 0.7 => F\n",
    "    0.5 > 0.7 => F\n",
    "    0.5 > 0.7 => F\n",
    "    1.0 > 0.7 => T\n",
    "\n",
    "'''"
   ]
  },
  {
   "cell_type": "code",
   "execution_count": 2,
   "id": "69b77163",
   "metadata": {},
   "outputs": [],
   "source": [
    "def AND(x1, x2):\n",
    "    w1 = 0.5\n",
    "    w2 = 0.5\n",
    "    theta = 0.7\n",
    "    \n",
    "    ws = w1 * x1 + w2 * x2\n",
    "    \n",
    "    if ws > theta:\n",
    "        return 1\n",
    "    \n",
    "    return 0"
   ]
  },
  {
   "cell_type": "code",
   "execution_count": 4,
   "id": "616abd3a",
   "metadata": {},
   "outputs": [
    {
     "name": "stdout",
     "output_type": "stream",
     "text": [
      "AND(0, 0) = 0\n",
      "AND(0, 1) = 0\n",
      "AND(1, 0) = 0\n",
      "AND(1, 1) = 1\n"
     ]
    }
   ],
   "source": [
    "X1 = [0, 0, 1, 1]\n",
    "X2 = [0, 1, 0, 1]\n",
    "\n",
    "for x1, x2 in zip(X1, X2):\n",
    "    print('AND(%d, %d) = %d' % (x1, x2, AND(x1, x2)))"
   ]
  },
  {
   "cell_type": "code",
   "execution_count": null,
   "id": "b95a036b",
   "metadata": {},
   "outputs": [],
   "source": [
    "'''\n",
    "    ### 단순 퍼셉트론을 이용한 AND Gate 구현 - Step2 ###\n",
    "    ==> 편향(bias)을 적용한 구현\n",
    "    \n",
    "    X1  X2  AND\n",
    "    === === ===\n",
    "     0   0   0\n",
    "     0   1   0\n",
    "     1   0   0\n",
    "     1   1   1\n",
    "         \n",
    "    w1 * x1 + w2 * x2 > theta ==> w1 * x1 + w2 * x2 - theta > 0\n",
    "    @@@ -theta를 b라고 표현한다면? @@@\n",
    "    \n",
    "    !!! -theta를 bias(편향)이라고 한다 !!!\n",
    "    \n",
    "    w1 * x1 + w2 * x2 + b > 0\n",
    "'''"
   ]
  },
  {
   "cell_type": "code",
   "execution_count": null,
   "id": "733ce0f5",
   "metadata": {},
   "outputs": [],
   "source": [
    "'''\n",
    "문제1] 편향을 적용한 AND 게이트를 구현하고 그 결과를 출력하는 코드를 작성하세요.\n",
    "'''"
   ]
  },
  {
   "cell_type": "code",
   "execution_count": 9,
   "id": "41517ac8",
   "metadata": {},
   "outputs": [],
   "source": [
    "def AND(x1, x2):\n",
    "    w1 = 0.5\n",
    "    w2 = 0.5\n",
    "    b = -0.7\n",
    "    \n",
    "    ws = w1 * x1 + w2 * x2 + b\n",
    "    \n",
    "    if ws > 0:\n",
    "        return 1\n",
    "    \n",
    "    return 0"
   ]
  },
  {
   "cell_type": "code",
   "execution_count": 10,
   "id": "848a55e4",
   "metadata": {},
   "outputs": [
    {
     "name": "stdout",
     "output_type": "stream",
     "text": [
      "AND(0, 0) = 0\n",
      "AND(0, 1) = 0\n",
      "AND(1, 0) = 0\n",
      "AND(1, 1) = 1\n"
     ]
    }
   ],
   "source": [
    "X1 = [0, 0, 1, 1]\n",
    "X2 = [0, 1, 0, 1]\n",
    "\n",
    "for x1, x2 in zip(X1, X2):\n",
    "    print('AND(%d, %d) = %d' % (x1, x2, AND(x1, x2)))"
   ]
  },
  {
   "cell_type": "code",
   "execution_count": null,
   "id": "53620651",
   "metadata": {},
   "outputs": [],
   "source": [
    "'''\n",
    "문제2] 퍼셉트론을 이용하여 OR, NAND 게이트를 구현하고 그 결과를 출력하는 코드를 작성하세요.\n",
    "\n",
    "    X1  X2  AND OR  NAND\n",
    "    === === === === ====\n",
    "     0   0   0   0   1    0 + b > 0  ==> ?\n",
    "     0   1   0   1   1    w2 + b > 0 ==> ?\n",
    "     1   0   0   1   1    w1 + b > 0 ==> ?\n",
    "     1   1   1   1   0    w1 + w2 > 0 => ?\n",
    "'''"
   ]
  },
  {
   "cell_type": "code",
   "execution_count": 13,
   "id": "e29c2017",
   "metadata": {},
   "outputs": [
    {
     "name": "stdout",
     "output_type": "stream",
     "text": [
      "OR(0, 0) = 0\n",
      "OR(0, 1) = 1\n",
      "OR(1, 0) = 1\n",
      "OR(1, 1) = 1\n"
     ]
    }
   ],
   "source": [
    "def OR(x1, x2):\n",
    "    w1 = 0.5\n",
    "    w2 = 0.5\n",
    "    b = -0.25\n",
    "    \n",
    "    ws = w1 * x1 + w2 * x2 + b\n",
    "    \n",
    "    if ws > 0:\n",
    "        return 1\n",
    "    \n",
    "    return 0\n",
    "\n",
    "X1 = [0, 0, 1, 1]\n",
    "X2 = [0, 1, 0, 1]\n",
    "\n",
    "for x1, x2 in zip(X1, X2):\n",
    "    print('OR(%d, %d) = %d' % (x1, x2, OR(x1, x2)))"
   ]
  },
  {
   "cell_type": "code",
   "execution_count": 14,
   "id": "9f929769",
   "metadata": {},
   "outputs": [
    {
     "name": "stdout",
     "output_type": "stream",
     "text": [
      "RAND(0, 0) = 1\n",
      "RAND(0, 1) = 1\n",
      "RAND(1, 0) = 1\n",
      "RAND(1, 1) = 0\n"
     ]
    }
   ],
   "source": [
    "def NAND(x1, x2):\n",
    "    w1 = -0.5\n",
    "    w2 = -0.5\n",
    "    b = 1\n",
    "    # AND 에서 부호만 반전시키면 됨\n",
    "    \n",
    "    ws = w1 * x1 + w2 * x2 + b\n",
    "    \n",
    "    if ws > 0:\n",
    "        return 1\n",
    "    \n",
    "    return 0\n",
    "\n",
    "X1 = [0, 0, 1, 1]\n",
    "X2 = [0, 1, 0, 1]\n",
    "\n",
    "for x1, x2 in zip(X1, X2):\n",
    "    print('NAND(%d, %d) = %d' % (x1, x2, NAND(x1, x2)))"
   ]
  },
  {
   "cell_type": "code",
   "execution_count": null,
   "id": "85d0120e",
   "metadata": {},
   "outputs": [],
   "source": [
    "'''\n",
    "문제3] AND, OR, NAND 함수를 통합하는 GATE 함수를 생성하고\n",
    "AND, OR, NAND 연산을 수행한 결과를 출력하는 코드를 작성하세요.\n",
    "'''"
   ]
  },
  {
   "cell_type": "code",
   "execution_count": 17,
   "id": "c4657f2e",
   "metadata": {},
   "outputs": [],
   "source": [
    "def GATE(x1, x2, w1, w2, b):\n",
    "    ws = w1 * x1 + w2 * x2 + b\n",
    "    \n",
    "    if ws > 0: # 여기서 활성화 함수: ws > 0\n",
    "        return 1\n",
    "    \n",
    "    return 0"
   ]
  },
  {
   "cell_type": "code",
   "execution_count": 19,
   "id": "d71fc957",
   "metadata": {
    "collapsed": true
   },
   "outputs": [
    {
     "name": "stdout",
     "output_type": "stream",
     "text": [
      "GATE(0, 0) = 0\n",
      "GATE(0, 1) = 0\n",
      "GATE(1, 0) = 0\n",
      "GATE(1, 1) = 1\n"
     ]
    }
   ],
   "source": [
    "# AND\n",
    "X1 = [0, 0, 1, 1]\n",
    "X2 = [0, 1, 0, 1]\n",
    "w1, w2, b = 0.5, 0.5, -0.7\n",
    "\n",
    "for x1, x2 in zip(X1, X2):\n",
    "    print('GATE(%d, %d) = %d' % (x1, x2, GATE(x1, x2, w1, w2, b)))"
   ]
  },
  {
   "cell_type": "code",
   "execution_count": 20,
   "id": "e46c9fb9",
   "metadata": {
    "collapsed": true
   },
   "outputs": [
    {
     "name": "stdout",
     "output_type": "stream",
     "text": [
      "GATE(0, 0) = 0\n",
      "GATE(0, 1) = 1\n",
      "GATE(1, 0) = 1\n",
      "GATE(1, 1) = 1\n"
     ]
    }
   ],
   "source": [
    "# OR\n",
    "X1 = [0, 0, 1, 1]\n",
    "X2 = [0, 1, 0, 1]\n",
    "w1, w2, b = 0.5, 0.5, -0.2\n",
    "\n",
    "for x1, x2 in zip(X1, X2):\n",
    "    print('GATE(%d, %d) = %d' % (x1, x2, GATE(x1, x2, w1, w2, b)))"
   ]
  },
  {
   "cell_type": "code",
   "execution_count": 21,
   "id": "17c733fc",
   "metadata": {
    "collapsed": true
   },
   "outputs": [
    {
     "name": "stdout",
     "output_type": "stream",
     "text": [
      "GATE(0, 0) = 1\n",
      "GATE(0, 1) = 1\n",
      "GATE(1, 0) = 1\n",
      "GATE(1, 1) = 0\n"
     ]
    }
   ],
   "source": [
    "# RAND\n",
    "X1 = [0, 0, 1, 1]\n",
    "X2 = [0, 1, 0, 1]\n",
    "w1, w2, b = -0.5, -0.5, 0.7\n",
    "\n",
    "for x1, x2 in zip(X1, X2):\n",
    "    print('GATE(%d, %d) = %d' % (x1, x2, GATE(x1, x2, w1, w2, b)))"
   ]
  },
  {
   "cell_type": "code",
   "execution_count": null,
   "id": "dc3ebe13",
   "metadata": {},
   "outputs": [],
   "source": [
    "'''\n",
    "문제4] AND, OR, NAND 함수를 통합하는 GATE 함수를 생성하고\n",
    "    AND, OR, NAND 연산을 수행한 결과를 출력하는 코드를 작성하세요.\n",
    "    단, numpy의 브로드캐스트 연산을 이용하여 코드를 구현합니다.\n",
    "'''"
   ]
  },
  {
   "cell_type": "code",
   "execution_count": 26,
   "id": "93923923",
   "metadata": {
    "collapsed": true
   },
   "outputs": [
    {
     "data": {
      "text/plain": [
       "array([-0.2])"
      ]
     },
     "execution_count": 26,
     "metadata": {},
     "output_type": "execute_result"
    }
   ],
   "source": [
    "# hint\n",
    "\n",
    "x = np.array([1, 0])\n",
    "w = np.array([0.5, 0.5])\n",
    "b = np.array([-0.7])\n",
    "\n",
    "(w * x).sum() + b"
   ]
  },
  {
   "cell_type": "code",
   "execution_count": 3,
   "id": "bfe77929",
   "metadata": {},
   "outputs": [],
   "source": [
    "x = np.array([[0, 0], [0, 1], [1, 0], [1, 1]])\n",
    "w = np.array([[0.5, 0.5], [0.5, 0.5], [-0.5, -0.5]])\n",
    "b = np.array([-0.7, -0.2, 0.7])"
   ]
  },
  {
   "cell_type": "code",
   "execution_count": 4,
   "id": "25afc03b",
   "metadata": {
    "collapsed": true
   },
   "outputs": [
    {
     "name": "stdout",
     "output_type": "stream",
     "text": [
      "False\n",
      "False\n",
      "False\n",
      "True\n"
     ]
    }
   ],
   "source": [
    "# AND\n",
    "print((w[0] * x[0]).sum() + b[0] > 0)\n",
    "print((w[0] * x[1]).sum() + b[0] > 0)\n",
    "print((w[0] * x[2]).sum() + b[0] > 0)\n",
    "print((w[0] * x[3]).sum() + b[0] > 0)"
   ]
  },
  {
   "cell_type": "code",
   "execution_count": 5,
   "id": "f0795575",
   "metadata": {
    "collapsed": true
   },
   "outputs": [
    {
     "name": "stdout",
     "output_type": "stream",
     "text": [
      "False\n",
      "True\n",
      "True\n",
      "True\n"
     ]
    }
   ],
   "source": [
    "# OR\n",
    "print((w[1] * x[0]).sum() + b[1] > 0)\n",
    "print((w[1] * x[1]).sum() + b[1] > 0)\n",
    "print((w[1] * x[2]).sum() + b[1] > 0)\n",
    "print((w[1] * x[3]).sum() + b[1] > 0)"
   ]
  },
  {
   "cell_type": "code",
   "execution_count": null,
   "id": "ac69aaff",
   "metadata": {},
   "outputs": [],
   "source": [
    "# RAND\n",
    "print((w[2] * x[0]).sum() + b[2] > 0)\n",
    "print((w[2] * x[1]).sum() + b[2] > 0)\n",
    "print((w[2] * x[2]).sum() + b[2] > 0)\n",
    "print((w[2] * x[3]).sum() + b[2] > 0)"
   ]
  },
  {
   "cell_type": "code",
   "execution_count": 7,
   "id": "c4e5337f",
   "metadata": {},
   "outputs": [],
   "source": [
    "def GATE(x, w, b):\n",
    "    ws = (w * x).sum() + b\n",
    "    \n",
    "    if ws > 0:\n",
    "        return 1\n",
    "    \n",
    "    return 0"
   ]
  },
  {
   "cell_type": "code",
   "execution_count": 12,
   "id": "f5da7e88",
   "metadata": {},
   "outputs": [
    {
     "name": "stdout",
     "output_type": "stream",
     "text": [
      "AND(0, 0) = 0\tOR(0, 0) = 0\tNAND(0, 0) = 1\n",
      "AND(0, 1) = 0\tOR(0, 1) = 1\tNAND(0, 1) = 1\n",
      "AND(1, 0) = 0\tOR(1, 0) = 1\tNAND(1, 0) = 1\n",
      "AND(1, 1) = 1\tOR(1, 1) = 1\tNAND(1, 1) = 0\n"
     ]
    }
   ],
   "source": [
    "x_data = np.array([[0, 0], [0, 1], [1, 0], [1, 1]])\n",
    "w = np.array([[0.5, 0.5], [0.5, 0.5], [-0.5, -0.5]])\n",
    "b = np.array([-0.7, -0.2, 0.7])\n",
    "\n",
    "for x in x_data:\n",
    "    print('AND({0}, {1}) = {2}\\tOR({0}, {1}) = {3}\\tNAND({0}, {1}) = {4}'.format(x[0], x[1],\n",
    "            GATE(x, w[0], b[0]), GATE(x, w[1], b[1]), GATE(x, w[2], b[2])))"
   ]
  },
  {
   "cell_type": "code",
   "execution_count": null,
   "id": "34b6acf5",
   "metadata": {},
   "outputs": [],
   "source": []
  }
 ],
 "metadata": {
  "kernelspec": {
   "display_name": "Python 3 (ipykernel)",
   "language": "python",
   "name": "python3"
  },
  "language_info": {
   "codemirror_mode": {
    "name": "ipython",
    "version": 3
   },
   "file_extension": ".py",
   "mimetype": "text/x-python",
   "name": "python",
   "nbconvert_exporter": "python",
   "pygments_lexer": "ipython3",
   "version": "3.9.12"
  }
 },
 "nbformat": 4,
 "nbformat_minor": 5
}
