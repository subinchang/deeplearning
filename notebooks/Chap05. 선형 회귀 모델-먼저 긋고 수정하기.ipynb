{
 "cells": [
  {
   "cell_type": "code",
   "execution_count": 12,
   "id": "e5c09fda",
   "metadata": {},
   "outputs": [],
   "source": [
    "import numpy as np\n",
    "import pandas as pd\n",
    "import matplotlib.pyplot as plt\n",
    "from mpl_toolkits import mplot3d"
   ]
  },
  {
   "cell_type": "code",
   "execution_count": 2,
   "id": "55eda400",
   "metadata": {},
   "outputs": [],
   "source": [
    "x = np.array([2, 4, 6, 8])\n",
    "y = np.array([81, 93, 91, 97])"
   ]
  },
  {
   "cell_type": "code",
   "execution_count": 3,
   "id": "49e52b27",
   "metadata": {
    "collapsed": true
   },
   "outputs": [
    {
     "data": {
      "image/png": "[encoded data removed]",
      "text/plain": [
       "<Figure size 432x288 with 1 Axes>"
      ]
     },
     "metadata": {
      "needs_background": "light"
     },
     "output_type": "display_data"
    }
   ],
   "source": [
    "plt.scatter(x, y)\n",
    "plt.show()"
   ]
  },
  {
   "cell_type": "code",
   "execution_count": 4,
   "id": "84f724bd",
   "metadata": {},
   "outputs": [],
   "source": [
    "a = 0\n",
    "b = 0\n",
    "lr = 0.03\n",
    "epochs = 2001"
   ]
  },
  {
   "cell_type": "code",
   "execution_count": 5,
   "id": "1f7171f6",
   "metadata": {
    "collapsed": true
   },
   "outputs": [
    {
     "name": "stdout",
     "output_type": "stream",
     "text": [
      "epochs: 0, a: 27.8400, b: 5.430000\n",
      "epochs: 100, a: 7.0739, b: 50.511662\n",
      "epochs: 200, a: 4.0960, b: 68.282244\n",
      "epochs: 300, a: 2.9757, b: 74.967813\n",
      "epochs: 400, a: 2.5542, b: 77.483029\n",
      "epochs: 500, a: 2.3956, b: 78.429292\n",
      "epochs: 600, a: 2.3360, b: 78.785291\n",
      "epochs: 700, a: 2.3135, b: 78.919223\n",
      "epochs: 800, a: 2.3051, b: 78.969610\n",
      "epochs: 900, a: 2.3019, b: 78.988567\n",
      "epochs: 1000, a: 2.3007, b: 78.995699\n",
      "epochs: 1100, a: 2.3003, b: 78.998382\n",
      "epochs: 1200, a: 2.3001, b: 78.999391\n",
      "epochs: 1300, a: 2.3000, b: 78.999771\n",
      "epochs: 1400, a: 2.3000, b: 78.999914\n",
      "epochs: 1500, a: 2.3000, b: 78.999968\n",
      "epochs: 1600, a: 2.3000, b: 78.999988\n",
      "epochs: 1700, a: 2.3000, b: 78.999995\n",
      "epochs: 1800, a: 2.3000, b: 78.999998\n",
      "epochs: 1900, a: 2.3000, b: 78.999999\n",
      "epochs: 2000, a: 2.3000, b: 79.000000\n"
     ]
    }
   ],
   "source": [
    "for i in range(epochs):\n",
    "    y_pred = a * x + b\n",
    "    error = y - y_pred\n",
    "    \n",
    "    a_diff = -(2 / len(x)) * (error * x).sum()\n",
    "    b_diff = -(2 / len(x)) * error.sum()\n",
    "    \n",
    "    a = a - lr * a_diff\n",
    "    b = b - lr * b_diff\n",
    "    \n",
    "    if i % 100 == 0:\n",
    "        print('epochs: %d, a: %.4f, b: %4f' % (i, a, b))"
   ]
  },
  {
   "cell_type": "code",
   "execution_count": 7,
   "id": "5c549519",
   "metadata": {},
   "outputs": [
    {
     "data": {
      "image/png": "[encoded data removed]",
      "text/plain": [
       "<Figure size 432x288 with 1 Axes>"
      ]
     },
     "metadata": {
      "needs_background": "light"
     },
     "output_type": "display_data"
    }
   ],
   "source": [
    "y_pred = a * x + b\n",
    "\n",
    "plt.scatter(x, y)\n",
    "plt.scatter(x, y_pred)\n",
    "plt.plot(x, y_pred)\n",
    "plt.grid()\n",
    "plt.show()"
   ]
  },
  {
   "cell_type": "code",
   "execution_count": null,
   "id": "065dddc6",
   "metadata": {},
   "outputs": [],
   "source": [
    "'''\n",
    "문제] 앞의 경사하강법 코드를 최소한의 반복을 이용하여 구현하는 코드를 작성하세요.\n",
    "'''"
   ]
  },
  {
   "cell_type": "code",
   "execution_count": 3,
   "id": "5e487819",
   "metadata": {
    "collapsed": true
   },
   "outputs": [
    {
     "name": "stdout",
     "output_type": "stream",
     "text": [
      "epochs: 0, a: 27.8400, b: 5.430000\n",
      "epochs: 100, a: 7.0739, b: 50.511662\n",
      "epochs: 200, a: 4.0960, b: 68.282244\n",
      "epochs: 300, a: 2.9757, b: 74.967813\n",
      "epochs: 400, a: 2.5542, b: 77.483029\n",
      "epochs: 500, a: 2.3956, b: 78.429292\n",
      "epochs: 600, a: 2.3360, b: 78.785291\n",
      "epochs: 700, a: 2.3135, b: 78.919223\n",
      "epochs: 800, a: 2.3051, b: 78.969610\n",
      "epochs: 900, a: 2.3019, b: 78.988567\n",
      "epochs: 1000, a: 2.3007, b: 78.995699\n",
      "epochs: 1100, a: 2.3003, b: 78.998382\n",
      "epochs: 1200, a: 2.3001, b: 78.999391\n",
      "epochs: 1300, a: 2.3000, b: 78.999771\n",
      "epochs: 1400, a: 2.3000, b: 78.999914\n",
      "epochs: 1500, a: 2.3000, b: 78.999968\n",
      "epochs: 1600, a: 2.3000, b: 78.999988\n",
      "epochs: 1700, a: 2.3000, b: 78.999995\n",
      "epochs: 1800, a: 2.3000, b: 78.999998\n",
      "epochs: 1900, a: 2.3000, b: 78.999999\n",
      "epochs: 2000, a: 2.3000, b: 79.000000\n",
      "i: 2000\n"
     ]
    }
   ],
   "source": [
    "x = np.array([2, 4, 6, 8])\n",
    "y = np.array([81, 93, 91, 97])\n",
    "\n",
    "a = 0\n",
    "b = 0\n",
    "lr = 0.03\n",
    "epochs = 2001\n",
    "\n",
    "for i in range(epochs):\n",
    "    y_pred = a * x + b\n",
    "    error = y - y_pred\n",
    "    \n",
    "    a_diff = -(2 / len(x)) * (error * x).sum()\n",
    "    b_diff = -(2 / len(x)) * error.sum()\n",
    "    \n",
    "    if a_diff == 0 and b_diff == 0:\n",
    "        break\n",
    "    \n",
    "    a = a - lr * a_diff\n",
    "    b = b - lr * b_diff\n",
    "    \n",
    "    if i % 100 == 0:\n",
    "        print('epochs: %d, a: %.4f, b: %4f' % (i, a, b))\n",
    "        \n",
    "print('i:', i)"
   ]
  },
  {
   "cell_type": "code",
   "execution_count": 8,
   "id": "ed874927",
   "metadata": {},
   "outputs": [
    {
     "name": "stdout",
     "output_type": "stream",
     "text": [
      "False False True\n"
     ]
    }
   ],
   "source": [
    "print(0 == 0.1, 0 == int(0.1 * 10), 0 == int(0.0001 * 1000))"
   ]
  },
  {
   "cell_type": "code",
   "execution_count": 10,
   "id": "90ac7b42",
   "metadata": {
    "collapsed": true
   },
   "outputs": [
    {
     "name": "stdout",
     "output_type": "stream",
     "text": [
      "epochs: 0, a: 27.8400, b: 5.430000\n",
      "epochs: 100, a: 7.0739, b: 50.511662\n",
      "epochs: 200, a: 4.0960, b: 68.282244\n",
      "epochs: 300, a: 2.9757, b: 74.967813\n",
      "epochs: 400, a: 2.5542, b: 77.483029\n",
      "epochs: 500, a: 2.3956, b: 78.429292\n",
      "epochs: 600, a: 2.3360, b: 78.785291\n",
      "epochs: 700, a: 2.3135, b: 78.919223\n",
      "epochs: 800, a: 2.3051, b: 78.969610\n",
      "epochs: 900, a: 2.3019, b: 78.988567\n",
      "epochs: 1000, a: 2.3007, b: 78.995699\n",
      "epochs: 1100, a: 2.3003, b: 78.998382\n",
      "epochs: 1200, a: 2.3001, b: 78.999391\n",
      "epochs: 1300, a: 2.3000, b: 78.999771\n",
      "epochs: 1400, a: 2.3000, b: 78.999914\n",
      "epochs: 1500, a: 2.3000, b: 78.999968\n",
      "i: 1507\n"
     ]
    }
   ],
   "source": [
    "x = np.array([2, 4, 6, 8])\n",
    "y = np.array([81, 93, 91, 97])\n",
    "\n",
    "a = 0\n",
    "b = 0\n",
    "lr = 0.03\n",
    "epochs = 2001\n",
    "\n",
    "for i in range(epochs):\n",
    "    y_pred = a * x + b\n",
    "    error = y - y_pred\n",
    "    \n",
    "    a_diff = -(2 / len(x)) * (error * x).sum()\n",
    "    b_diff = -(2 / len(x)) * error.sum()\n",
    "    \n",
    "    if int(a_diff * 100000) == 0 and int(b_diff * 100000) == 0:\n",
    "        break\n",
    "    \n",
    "    a = a - lr * a_diff\n",
    "    b = b - lr * b_diff\n",
    "    \n",
    "    if i % 100 == 0:\n",
    "        print('epochs: %d, a: %.4f, b: %4f' % (i, a, b))\n",
    "        \n",
    "print('i:', i)"
   ]
  },
  {
   "cell_type": "code",
   "execution_count": 11,
   "id": "a2c52a96",
   "metadata": {},
   "outputs": [
    {
     "data": {
      "image/png": "[encoded data removed]",
      "text/plain": [
       "<Figure size 432x288 with 1 Axes>"
      ]
     },
     "metadata": {
      "needs_background": "light"
     },
     "output_type": "display_data"
    }
   ],
   "source": [
    "y_pred = a * x + b\n",
    "\n",
    "plt.scatter(x, y)\n",
    "plt.scatter(x, y_pred)\n",
    "plt.plot(x, y_pred)\n",
    "plt.grid()\n",
    "plt.show()"
   ]
  },
  {
   "cell_type": "code",
   "execution_count": 17,
   "id": "9a0b1dd2",
   "metadata": {},
   "outputs": [
    {
     "data": {
      "image/png": "[encoded data removed]",
      "text/plain": [
       "<Figure size 432x288 with 1 Axes>"
      ]
     },
     "metadata": {
      "needs_background": "light"
     },
     "output_type": "display_data"
    }
   ],
   "source": [
    "x1 = np.array([2, 4, 6, 8])\n",
    "x2 = np.array([0, 4, 2, 3])\n",
    "y = np.array([81, 93, 91, 97])\n",
    "\n",
    "ax = plt.axes(projection='3d')\n",
    "ax.set_xlabel('study hour')\n",
    "ax.set_ylabel('private class')\n",
    "ax.set_zlabel('score')\n",
    "ax.scatter(x1, x2, y)\n",
    "ax.dist = 8 # 비율 변경, 10이 기본값\n",
    "\n",
    "plt.show()"
   ]
  },
  {
   "cell_type": "code",
   "execution_count": 24,
   "id": "22975f89",
   "metadata": {},
   "outputs": [
    {
     "name": "stdout",
     "output_type": "stream",
     "text": [
      "epochs: 0, a1: 9.2800, a2: 4.2250, b:1.8100\n",
      "epochs: 100, a1: 9.5110, a2: 5.0270, b:22.9205\n",
      "epochs: 200, a1: 7.3238, a2: 4.2950, b:37.8751\n",
      "epochs: 300, a1: 5.7381, a2: 3.7489, b:48.7589\n",
      "epochs: 400, a1: 4.5844, a2: 3.3507, b:56.6800\n",
      "epochs: 500, a1: 3.7447, a2: 3.0608, b:62.4448\n",
      "epochs: 600, a1: 3.1337, a2: 2.8498, b:66.6404\n",
      "epochs: 700, a1: 2.6890, a2: 2.6962, b:69.6938\n",
      "epochs: 800, a1: 2.3653, a2: 2.5845, b:71.9160\n",
      "epochs: 900, a1: 2.1297, a2: 2.5032, b:73.5333\n",
      "epochs: 1000, a1: 1.9583, a2: 2.4440, b:74.7103\n",
      "epochs: 1100, a1: 1.8336, a2: 2.4009, b:75.5670\n",
      "epochs: 1200, a1: 1.7428, a2: 2.3695, b:76.1904\n",
      "epochs: 1300, a1: 1.6767, a2: 2.3467, b:76.6441\n",
      "epochs: 1400, a1: 1.6286, a2: 2.3301, b:76.9743\n",
      "epochs: 1500, a1: 1.5936, a2: 2.3180, b:77.2146\n",
      "epochs: 1600, a1: 1.5681, a2: 2.3092, b:77.3895\n",
      "epochs: 1700, a1: 1.5496, a2: 2.3028, b:77.5168\n",
      "epochs: 1800, a1: 1.5361, a2: 2.2982, b:77.6095\n",
      "epochs: 1900, a1: 1.5263, a2: 2.2948, b:77.6769\n",
      "epochs: 2000, a1: 1.5191, a2: 2.2923, b:77.7260\n"
     ]
    }
   ],
   "source": [
    "x1 = np.array([2, 4, 6, 8])\n",
    "x2 = np.array([0, 4, 2, 3])\n",
    "y = np.array([81, 93, 91, 97])\n",
    "\n",
    "a1 = 0\n",
    "a2 = 0\n",
    "b = 0\n",
    "lr = 0.01\n",
    "epochs = 2001\n",
    "\n",
    "for i in range(epochs):\n",
    "    y_pred = a1 * x1 + a2 * x2 + b # 회귀분석의 활성화 함수는 무어소가 같다? => 가중합(weighted sum)\n",
    "    error = y - y_pred\n",
    "    \n",
    "    a1_diff = -(2/len(x1)) * (error * x1).sum()\n",
    "    a2_diff = -(2/len(x2)) * (error * x2).sum()\n",
    "    b_diff = -(2/len(x1)) * error.sum()\n",
    "    \n",
    "    a1 = a1 - lr * a1_diff\n",
    "    a2 = a2 - lr * a2_diff\n",
    "    b = b - lr * b_diff\n",
    "    \n",
    "    if i % 100 == 0:\n",
    "        print('epochs: %d, a1: %.4f, a2: %.4f, b:%.4f' % (i, a1, a2, b))\n",
    "    "
   ]
  },
  {
   "cell_type": "code",
   "execution_count": 25,
   "id": "606c4eda",
   "metadata": {},
   "outputs": [
    {
     "name": "stdout",
     "output_type": "stream",
     "text": [
      "공부한 시간: [2 4 6 8]\n",
      "과외 횟수: [0 4 2 3]\n",
      "실제 성적: [81 93 91 97]\n",
      "예측 성적: [80.76417234 92.97162951 91.42521942 96.75574296]\n"
     ]
    }
   ],
   "source": [
    "y_pred = a1 * x1 + a2 * x2 + b\n",
    "\n",
    "print('공부한 시간:', x1)\n",
    "print('과외 횟수:', x2)\n",
    "print('실제 성적:', y)\n",
    "print('예측 성적:', y_pred)"
   ]
  },
  {
   "cell_type": "code",
   "execution_count": null,
   "id": "c5fcf3a8",
   "metadata": {},
   "outputs": [],
   "source": [
    "'''\n",
    "문제] 앞의 다중 회귀 분석 예제를 무한 반복을 이용한 최소한의 반복으로 구현하는 코드를 작성하세요.\n",
    "'''"
   ]
  },
  {
   "cell_type": "code",
   "execution_count": 29,
   "id": "050090cd",
   "metadata": {},
   "outputs": [
    {
     "name": "stdout",
     "output_type": "stream",
     "text": [
      "epochs: 0, a1: 9.2800, a2: 4.2250, b:1.8100\n",
      "epochs: 100, a1: 9.5110, a2: 5.0270, b:22.9205\n",
      "epochs: 200, a1: 7.3238, a2: 4.2950, b:37.8751\n",
      "epochs: 300, a1: 5.7381, a2: 3.7489, b:48.7589\n",
      "epochs: 400, a1: 4.5844, a2: 3.3507, b:56.6800\n",
      "epochs: 500, a1: 3.7447, a2: 3.0608, b:62.4448\n",
      "epochs: 600, a1: 3.1337, a2: 2.8498, b:66.6404\n",
      "epochs: 700, a1: 2.6890, a2: 2.6962, b:69.6938\n",
      "epochs: 800, a1: 2.3653, a2: 2.5845, b:71.9160\n",
      "epochs: 900, a1: 2.1297, a2: 2.5032, b:73.5333\n",
      "epochs: 1000, a1: 1.9583, a2: 2.4440, b:74.7103\n",
      "epochs: 1100, a1: 1.8336, a2: 2.4009, b:75.5670\n",
      "epochs: 1200, a1: 1.7428, a2: 2.3695, b:76.1904\n",
      "epochs: 1300, a1: 1.6767, a2: 2.3467, b:76.6441\n",
      "epochs: 1400, a1: 1.6286, a2: 2.3301, b:76.9743\n",
      "epochs: 1500, a1: 1.5936, a2: 2.3180, b:77.2146\n",
      "epochs: 1600, a1: 1.5681, a2: 2.3092, b:77.3895\n",
      "epochs: 1700, a1: 1.5496, a2: 2.3028, b:77.5168\n",
      "i: 1726\n",
      "실제 성적: [81 93 91 97]\n",
      "예측 성적: [80.63437962 92.93202252 91.4205398  96.81361989]\n"
     ]
    }
   ],
   "source": [
    "x1 = np.array([2, 4, 6, 8])\n",
    "x2 = np.array([0, 4, 2, 3])\n",
    "y = np.array([81, 93, 91, 97])\n",
    "\n",
    "a1 = 0\n",
    "a2 = 0\n",
    "b = 0\n",
    "lr = 0.01\n",
    "epochs = 2001\n",
    "\n",
    "i = 0\n",
    "while True:\n",
    "    y_pred = a1 * x1 + a2 * x2 + b\n",
    "    error = y - y_pred\n",
    "    \n",
    "    a1_diff = -(2/len(x1)) * (error * x1).sum()\n",
    "    a2_diff = -(2/len(x2)) * (error * x2).sum()\n",
    "    b_diff = -(2/len(x1)) * error.sum()\n",
    "    \n",
    "    if int(a1_diff*10) == 0 and int(a2_diff*10) == 0 and int(b_diff*10) == 0:\n",
    "        break\n",
    "    \n",
    "    a1 = a1 - lr * a1_diff\n",
    "    a2 = a2 - lr * a2_diff\n",
    "    b = b - lr * b_diff\n",
    "    \n",
    "    if i % 100 == 0:\n",
    "        print('epochs: %d, a1: %.4f, a2: %.4f, b:%.4f' % (i, a1, a2, b))\n",
    "    \n",
    "    i += 1\n",
    "    \n",
    "y_pred = a1 * x1 + a2 * x2 + b\n",
    "\n",
    "print('i:', i)\n",
    "print('실제 성적:', y)\n",
    "print('예측 성적:', y_pred)"
   ]
  },
  {
   "cell_type": "code",
   "execution_count": null,
   "id": "63ceafda",
   "metadata": {},
   "outputs": [],
   "source": [
    "'''\n",
    "i: 2000\n",
    "실제 성적: [81 93 91 97]\n",
    "예측 성적: [80.76417234 92.97162951 91.42521942 96.75574296]\n",
    "\n",
    "i: 4624    ::: int(a1_diff*100000)\n",
    "실제 성적: [81 93 91 97]\n",
    "예측 성적: [80.85712054 92.99999319 91.42857062 96.71429567]\n",
    "\n",
    "i: 3175    ::: int(a1_diff*1000)\n",
    "실제 성적: [81 93 91 97]\n",
    "예측 성적: [80.85491323 92.99931962 91.42849104 96.71527995]\n",
    "\n",
    "i: 1726    ::: int(a1_diff*10)\n",
    "실제 성적: [81 93 91 97]\n",
    "예측 성적: [80.63437962 92.93202252 91.4205398  96.81361989]\n",
    "'''"
   ]
  },
  {
   "cell_type": "code",
   "execution_count": null,
   "id": "402e3f7d",
   "metadata": {},
   "outputs": [],
   "source": []
  }
 ],
 "metadata": {
  "kernelspec": {
   "display_name": "Python 3 (ipykernel)",
   "language": "python",
   "name": "python3"
  },
  "language_info": {
   "codemirror_mode": {
    "name": "ipython",
    "version": 3
   },
   "file_extension": ".py",
   "mimetype": "text/x-python",
   "name": "python",
   "nbconvert_exporter": "python",
   "pygments_lexer": "ipython3",
   "version": "3.9.12"
  }
 },
 "nbformat": 4,
 "nbformat_minor": 5
}
