{
 "cells": [
  {
   "cell_type": "code",
   "execution_count": 1,
   "id": "6ae641ae",
   "metadata": {},
   "outputs": [],
   "source": [
    "import numpy as np"
   ]
  },
  {
   "cell_type": "code",
   "execution_count": null,
   "id": "ee20d317",
   "metadata": {},
   "outputs": [],
   "source": [
    "'''\n",
    "문제1] 아래의 데이터를 사용하여 각 노드는 가중합 연산을 수행하고 별도의 활성화 함수가 없는 경우 최종 출력(y_out)은 얼마인가요?\n",
    "\n",
    "X = [x1, x2] = [1, 2]\n",
    "W1 = [[w11, w12], [w21, w22]] = [[1, 2], [3, 4]]\n",
    "B1 = [b1, b2] = [1, 2]\n",
    "W2 = [w31, w32] = [1, 2]\n",
    "B2 = [b3] = [1]\n",
    "'''"
   ]
  },
  {
   "cell_type": "code",
   "execution_count": null,
   "id": "be218db4",
   "metadata": {},
   "outputs": [],
   "source": [
    "'''\n",
    "n1 = x1*w11 + x2*w12 + b1 = 1*1 + 2*3 + 1 = 8\n",
    "n2 = x2*w21 + x2*w22 + b2 = 1*2 + 2*4 + 2 = 12\n",
    "\n",
    "y_out = n1*w31 + n2*w32 + b3 = 8*1 + 12*2 + 1 = 33\n",
    "'''"
   ]
  },
  {
   "cell_type": "code",
   "execution_count": null,
   "id": "16ca90de",
   "metadata": {},
   "outputs": [],
   "source": [
    "'''\n",
    "문제2] 위의 문제 1의 내용을 코드로 구현하여 그 결과를 출력하세요.\n",
    "'''"
   ]
  },
  {
   "cell_type": "code",
   "execution_count": 8,
   "id": "e61296ae",
   "metadata": {},
   "outputs": [],
   "source": [
    "X = np.array([1, 2])\n",
    "W1 = np.array([[1, 2], [3, 4]])\n",
    "B1 = np.array([1, 2])\n",
    "W2 = np.array([1, 2])\n",
    "B2 = np.array([1])"
   ]
  },
  {
   "cell_type": "code",
   "execution_count": 12,
   "id": "26e1211b",
   "metadata": {},
   "outputs": [
    {
     "name": "stdout",
     "output_type": "stream",
     "text": [
      "n1: 8, n2: 12\n"
     ]
    }
   ],
   "source": [
    "n = X.dot(W1) + B1 # 은닉층 전체의 연산, 한 방에 브로드캐스트로 해결됨\n",
    "print('n1: {}, n2: {}'.format(n[0], n[1]))"
   ]
  },
  {
   "cell_type": "code",
   "execution_count": 16,
   "id": "a526aa09",
   "metadata": {},
   "outputs": [
    {
     "name": "stdout",
     "output_type": "stream",
     "text": [
      "y_out: 33\n"
     ]
    }
   ],
   "source": [
    "y_out = np.dot(n, W2) + B2\n",
    "print('y_out: {}'.format(y_out[0]))"
   ]
  },
  {
   "cell_type": "code",
   "execution_count": null,
   "id": "f734a8a8",
   "metadata": {},
   "outputs": [],
   "source": [
    "'''\n",
    "    n1: NAND(X1, X2), n2: OR(X1, X2), y: AND(n1, n2)\n",
    "    X1  X2   n1  n2   y\n",
    "    === === === === ===\n",
    "     0   0   1   0   0\n",
    "     0   1   1   1   1\n",
    "     1   0   1   1   1\n",
    "     1   1   0   1   0\n",
    "     \n",
    "     XOR(exclusive or) 문제를 다층 퍼셉트론으로 해결할 수 있다!\n",
    "'''"
   ]
  },
  {
   "cell_type": "code",
   "execution_count": 17,
   "id": "df00cba7",
   "metadata": {},
   "outputs": [],
   "source": [
    "def AND(x1, x2):\n",
    "    w1 = 0.5\n",
    "    w2 = 0.5\n",
    "    b = -0.7\n",
    "    \n",
    "    ws = w1 * x1 + w2 * x2 + b\n",
    "    \n",
    "    if ws > 0:\n",
    "        return 1\n",
    "    \n",
    "    return 0"
   ]
  },
  {
   "cell_type": "code",
   "execution_count": 18,
   "id": "f7220680",
   "metadata": {},
   "outputs": [],
   "source": [
    "def OR(x1, x2):\n",
    "    w1 = 0.5\n",
    "    w2 = 0.5\n",
    "    b = -0.2\n",
    "    \n",
    "    ws = w1 * x1 + w2 * x2 + b\n",
    "    \n",
    "    if ws > 0:\n",
    "        return 1\n",
    "    \n",
    "    return 0"
   ]
  },
  {
   "cell_type": "code",
   "execution_count": 19,
   "id": "989ead47",
   "metadata": {},
   "outputs": [],
   "source": [
    "def NAND(x1, x2):\n",
    "    w1 = -0.5\n",
    "    w2 = -0.5\n",
    "    b = 0.7\n",
    "    \n",
    "    ws = w1 * x1 + w2 * x2 + b\n",
    "    \n",
    "    if ws > 0:\n",
    "        return 1\n",
    "    \n",
    "    return 0"
   ]
  },
  {
   "cell_type": "code",
   "execution_count": 21,
   "id": "5ed55be8",
   "metadata": {},
   "outputs": [],
   "source": [
    "def XOR(x):\n",
    "    xor = AND(OR(x1, x2), NAND(x1, x2))\n",
    "    \n",
    "    if xor > 0:\n",
    "        return 1\n",
    "    \n",
    "    return 0"
   ]
  },
  {
   "cell_type": "code",
   "execution_count": null,
   "id": "68c106c7",
   "metadata": {},
   "outputs": [],
   "source": [
    "'''\n",
    "문제3] AND, OR, NAND 함수를 이용하여 XOR 문제를 해결하는 코드를 작성하세요.\n",
    "'''"
   ]
  },
  {
   "cell_type": "code",
   "execution_count": 24,
   "id": "76f22a5c",
   "metadata": {
    "collapsed": true
   },
   "outputs": [
    {
     "name": "stdout",
     "output_type": "stream",
     "text": [
      "0   0   1   0   0\n",
      "0   1   1   1   1\n",
      "1   0   1   1   1\n",
      "1   1   0   1   0\n"
     ]
    }
   ],
   "source": [
    "X1 = [0, 0, 1, 1]\n",
    "X2 = [0, 1, 0, 1]\n",
    "\n",
    "for x1, x2 in zip(X1, X2):\n",
    "    n1 = NAND(x1, x2)\n",
    "    n2 = OR(x1, x2)\n",
    "    y = AND(n1, n2)\n",
    "    \n",
    "    print('%d   %d   %d   %d   %d' % (x1, x2, n1, n2, y))"
   ]
  },
  {
   "cell_type": "code",
   "execution_count": null,
   "id": "7838e551",
   "metadata": {},
   "outputs": [],
   "source": [
    "'''\n",
    "문제4] 다음 GATE 함수를 이용하여 XOR 문제를 해결하는 코드를 작성하세요.\n",
    "'''"
   ]
  },
  {
   "cell_type": "code",
   "execution_count": 31,
   "id": "81b5a8cd",
   "metadata": {},
   "outputs": [],
   "source": [
    "def GATE(x1, x2, w1, w2, b):\n",
    "    ws = w1 * x1 + w2 * x2 + b\n",
    "    \n",
    "    if ws > 0:\n",
    "        return 1\n",
    "    \n",
    "    return 0"
   ]
  },
  {
   "cell_type": "code",
   "execution_count": 32,
   "id": "190871c4",
   "metadata": {},
   "outputs": [
    {
     "name": "stdout",
     "output_type": "stream",
     "text": [
      "0   0   1   0   0\n",
      "0   1   1   1   1\n",
      "1   0   1   1   1\n",
      "1   1   0   1   0\n"
     ]
    }
   ],
   "source": [
    "X1 = [0, 0, 1, 1]\n",
    "X2 = [0, 1, 0, 1]\n",
    "\n",
    "for x1, x2 in zip(X1, X2):\n",
    "    n1 = GATE(x1, x2, -0.5, -0.5, 0.7)\n",
    "    n2 = GATE(x1, x2, 0.5, 0.5, -0.2)\n",
    "    y = GATE(n1, n2, 0.5, 0.5, -0.7)\n",
    "    \n",
    "    print('%d   %d   %d   %d   %d' % (x1, x2, n1, n2, y))"
   ]
  },
  {
   "cell_type": "code",
   "execution_count": 33,
   "id": "715b8c6a",
   "metadata": {},
   "outputs": [
    {
     "name": "stdout",
     "output_type": "stream",
     "text": [
      "0   0   1   0   0\n",
      "0   1   1   1   1\n",
      "1   0   1   1   1\n",
      "1   1   0   1   0\n"
     ]
    }
   ],
   "source": [
    "X1 = [0, 0, 1, 1]\n",
    "X2 = [0, 1, 0, 1]\n",
    "W1 = [-0.5, 0.5, 0.5]\n",
    "W2 = [-0.5, 0.5, 0.5]\n",
    "B = [0.7, -0.2, -0.7]\n",
    "\n",
    "for x1, x2 in zip(X1, X2):\n",
    "    n1 = GATE(x1, x2, W1[0], W2[0], B[0])\n",
    "    n2 = GATE(x1, x2, W1[1], W2[1], B[1])\n",
    "    y = GATE(n1, n2, W1[2], W2[2], B[2])\n",
    "    \n",
    "    print('%d   %d   %d   %d   %d' % (x1, x2, n1, n2, y))"
   ]
  },
  {
   "cell_type": "code",
   "execution_count": null,
   "id": "e20f4021",
   "metadata": {},
   "outputs": [],
   "source": [
    "'''\n",
    "문제5] 다음 GATE 함수를 이용하여 XOR 문제를 해결하는 코드를 작성하세요.\n",
    "'''"
   ]
  },
  {
   "cell_type": "code",
   "execution_count": 34,
   "id": "9d08de5b",
   "metadata": {},
   "outputs": [],
   "source": [
    "def GATE(x, w, b):\n",
    "    ws = (w * x).sum() + b\n",
    "    \n",
    "    if ws > 0:\n",
    "        return 1\n",
    "    \n",
    "    return 0"
   ]
  },
  {
   "cell_type": "code",
   "execution_count": 36,
   "id": "95579edd",
   "metadata": {},
   "outputs": [
    {
     "name": "stdout",
     "output_type": "stream",
     "text": [
      "0   0   1   0   0\n",
      "0   1   1   1   1\n",
      "1   0   1   1   1\n",
      "1   1   0   1   0\n"
     ]
    }
   ],
   "source": [
    "x_data = np.array([[0, 0], [0, 1], [1, 0], [1, 1]])\n",
    "w = np.array([[-0.5, -0.5], [0.5, 0.5], [0.5, 0.5]])\n",
    "b = np.array([0.7, -0.2, -0.7]) # NAND OR AND 순서\n",
    "\n",
    "for x in x_data:\n",
    "    n1 = GATE(x, w[0], b[0])\n",
    "    n2 = GATE(x, w[1], b[1])\n",
    "    y = GATE(np.array([n1, n2]), w[2], b[2])\n",
    "    \n",
    "    print('%d   %d   %d   %d   %d' % (x[0], x[1], n1, n2, y))\n",
    "    \n",
    "# 이건 단순 퍼셉트론을 연결해서 다중 퍼셉트론처럼 보이게 한 것일 뿐, 다층 퍼셉트론 구조가 아님\n",
    "# 각 계층 (n1, n2) 이 한꺼번에 처리(일괄 연산)되어야 다중 퍼셉트론, 각 노드가 개별 연산 되면 안 됨"
   ]
  },
  {
   "cell_type": "code",
   "execution_count": null,
   "id": "27b8cb5f",
   "metadata": {},
   "outputs": [],
   "source": [
    "'''\n",
    "문제6] 다층 퍼셉트론 구조를 이용하여 XOR 문제를 해결하는 코드를 작성하세요.\n",
    "'''"
   ]
  },
  {
   "cell_type": "code",
   "execution_count": 38,
   "id": "2ecd4455",
   "metadata": {},
   "outputs": [],
   "source": [
    "x_data = np.array([[0, 0], [0, 1], [1, 0], [1, 1]])\n",
    "W1 = np.array([[-0.5, 0.5], [-0.5, 0.5]]) # NAND, OR 가중치\n",
    "B1 = np.array([0.7, -0.2]) # NAND, OR 편향\n",
    "W2 = np.array([0.5, 0.5]) # AND 가중치\n",
    "B2 = np.array([-0.7]) # AND 편향"
   ]
  },
  {
   "cell_type": "code",
   "execution_count": 43,
   "id": "6ac63c81",
   "metadata": {
    "collapsed": true
   },
   "outputs": [
    {
     "name": "stdout",
     "output_type": "stream",
     "text": [
      "[ True False]\n",
      "[ True  True]\n",
      "[ True  True]\n",
      "[False  True]\n"
     ]
    }
   ],
   "source": [
    "# 은닉층에서의 연산\n",
    "ws1 = x_data[0].dot(W1) + B1 > 0\n",
    "ws2 = x_data[1].dot(W1) + B1 > 0\n",
    "ws3 = x_data[2].dot(W1) + B1 > 0\n",
    "ws4 = x_data[3].dot(W1) + B1 > 0\n",
    "\n",
    "print(ws1 > 0)\n",
    "print(ws2 > 0)\n",
    "print(ws3 > 0)\n",
    "print(ws4 > 0)\n",
    "\n",
    "# (0, 0) X (-0.5  0.5) = (0, 0) + (0.7, -0.2) > 0 = T F\n",
    "#           -0.5  0.5"
   ]
  },
  {
   "cell_type": "code",
   "execution_count": 47,
   "id": "01557a0e",
   "metadata": {
    "collapsed": true
   },
   "outputs": [
    {
     "name": "stdout",
     "output_type": "stream",
     "text": [
      "[False]\n",
      "[ True]\n",
      "[ True]\n",
      "[False]\n"
     ]
    }
   ],
   "source": [
    "# 출력층에서의 연산\n",
    "y1 = (ws1 > 0).dot(W2) + B2 > 0\n",
    "y2 = (ws2 > 0).dot(W2) + B2 > 0\n",
    "y3 = (ws3 > 0).dot(W2) + B2 > 0\n",
    "y4 = (ws4 > 0).dot(W2) + B2 > 0\n",
    "\n",
    "print(y1 > 0)\n",
    "print(y2 > 0)\n",
    "print(y3 > 0)\n",
    "print(y4 > 0)"
   ]
  },
  {
   "cell_type": "code",
   "execution_count": 48,
   "id": "cf6b7a2e",
   "metadata": {},
   "outputs": [],
   "source": [
    "def GATE(x, w, b):\n",
    "    ws = np.dot(x, w) +b\n",
    "    return ws > 0"
   ]
  },
  {
   "cell_type": "code",
   "execution_count": 54,
   "id": "648ba473",
   "metadata": {
    "collapsed": true
   },
   "outputs": [
    {
     "name": "stdout",
     "output_type": "stream",
     "text": [
      "[ True False]\n",
      "[ True  True]\n",
      "[ True  True]\n",
      "[False  True]\n"
     ]
    }
   ],
   "source": [
    "n1 = GATE(x_data[0], W1, B1)\n",
    "n2 = GATE(x_data[1], W1, B1)\n",
    "n3 = GATE(x_data[2], W1, B1)\n",
    "n4 = GATE(x_data[3], W1, B1)\n",
    "\n",
    "print(n1)\n",
    "print(n2)\n",
    "print(n3)\n",
    "print(n4)"
   ]
  },
  {
   "cell_type": "code",
   "execution_count": 55,
   "id": "8404e63f",
   "metadata": {
    "collapsed": true
   },
   "outputs": [
    {
     "name": "stdout",
     "output_type": "stream",
     "text": [
      "[False]\n",
      "[ True]\n",
      "[ True]\n",
      "[False]\n"
     ]
    }
   ],
   "source": [
    "y1 = GATE(n1, W2, B2)\n",
    "y2 = GATE(n2, W2, B2)\n",
    "y3 = GATE(n3, W2, B2)\n",
    "y4 = GATE(n4, W2, B2)\n",
    "\n",
    "print(y1)\n",
    "print(y2)\n",
    "print(y3)\n",
    "print(y4)"
   ]
  },
  {
   "cell_type": "code",
   "execution_count": 57,
   "id": "a1b37e29",
   "metadata": {},
   "outputs": [
    {
     "name": "stdout",
     "output_type": "stream",
     "text": [
      "x1: 0, x2: 0, n1: 1, n2: 0, y: 0\n",
      "x1: 0, x2: 1, n1: 1, n2: 1, y: 1\n",
      "x1: 1, x2: 0, n1: 1, n2: 1, y: 1\n",
      "x1: 1, x2: 1, n1: 0, n2: 1, y: 0\n"
     ]
    }
   ],
   "source": [
    "for x in x_data:\n",
    "    n = GATE(x, W1, B1)\n",
    "    y = GATE(n, W2, B2)\n",
    "    \n",
    "    print('x1: {}, x2: {}, n1: {:1}, n2: {:1}, y: {:1}'.format(x[0], x[1], n[0], n[1], y[0]))\n",
    "    # :1 한자리로 보이라는 말, boolean을 0, 1로 보여줌"
   ]
  },
  {
   "cell_type": "code",
   "execution_count": 58,
   "id": "e7c7ab22",
   "metadata": {},
   "outputs": [
    {
     "name": "stdout",
     "output_type": "stream",
     "text": [
      "x1: 0, x2: 0, n1: 1, n2: 0, y: 0\n",
      "x1: 0, x2: 1, n1: 1, n2: 1, y: 1\n",
      "x1: 1, x2: 0, n1: 1, n2: 1, y: 1\n",
      "x1: 1, x2: 1, n1: 0, n2: 1, y: 0\n"
     ]
    }
   ],
   "source": [
    "# 다층 퍼셉트론 구조, 매우 중요\n",
    "\n",
    "x_data = np.array([[0, 0], [0, 1], [1, 0], [1, 1]])\n",
    "W1 = np.array([[-0.5, 0.5], [-0.5, 0.5]])\n",
    "B1 = np.array([0.7, -0.2])\n",
    "W2 = np.array([0.5, 0.5])\n",
    "B2 = np.array([-0.7])\n",
    "\n",
    "def GATE(x, w, b):\n",
    "    ws = np.dot(x, w) + b\n",
    "    \n",
    "    return ws > 0\n",
    "\n",
    "for x in x_data:\n",
    "    n = GATE(x, W1, B1)\n",
    "    y = GATE(n, W2, B2)\n",
    "    \n",
    "    print('x1: {}, x2: {}, n1: {:1}, n2: {:1}, y: {:1}'.format(x[0], x[1], n[0], n[1], y[0]))"
   ]
  },
  {
   "cell_type": "code",
   "execution_count": null,
   "id": "666a05d4",
   "metadata": {},
   "outputs": [],
   "source": [
    "# 다층 퍼셉트론에 경사 하강법을 적용하면 인공 신경망이 됨.\n",
    "# 경사 하강법은 최적의 a, b를 찾기 위함\n",
    "# 경사 하강법을 다층 퍼셉트론 구조의 인공 신경망에 적용하는 것이 오차 역전파\n",
    "# 오차 역전파는 딥러닝의 핵심 알고리즘임"
   ]
  }
 ],
 "metadata": {
  "kernelspec": {
   "display_name": "Python 3 (ipykernel)",
   "language": "python",
   "name": "python3"
  },
  "language_info": {
   "codemirror_mode": {
    "name": "ipython",
    "version": 3
   },
   "file_extension": ".py",
   "mimetype": "text/x-python",
   "name": "python",
   "nbconvert_exporter": "python",
   "pygments_lexer": "ipython3",
   "version": "3.9.12"
  }
 },
 "nbformat": 4,
 "nbformat_minor": 5
}
