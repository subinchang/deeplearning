{
 "cells": [
  {
   "cell_type": "code",
   "execution_count": null,
   "id": "07c8425a",
   "metadata": {},
   "outputs": [],
   "source": [
    "# 다층 퍼셉트론에 경사 하강법을 적용하면 인공 신경망이 됨.\n",
    "# 경사 하강법은 최적의 a, b를 찾기 위함\n",
    "# 오차 역전파: 경사 하강법을 다층 퍼셉트론 구조의 인공 신경망에 적용하는 방법\n",
    "# 오차 역전파란 딥러닝의 핵심 알고리즘임"
   ]
  },
  {
   "cell_type": "code",
   "execution_count": null,
   "id": "97a46635",
   "metadata": {},
   "outputs": [],
   "source": []
  }
 ],
 "metadata": {
  "kernelspec": {
   "display_name": "Python 3 (ipykernel)",
   "language": "python",
   "name": "python3"
  },
  "language_info": {
   "codemirror_mode": {
    "name": "ipython",
    "version": 3
   },
   "file_extension": ".py",
   "mimetype": "text/x-python",
   "name": "python",
   "nbconvert_exporter": "python",
   "pygments_lexer": "ipython3",
   "version": "3.9.12"
  }
 },
 "nbformat": 4,
 "nbformat_minor": 5
}
